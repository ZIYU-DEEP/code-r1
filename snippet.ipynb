{
 "cells": [
  {
   "cell_type": "code",
   "execution_count": null,
   "id": "75d112f8",
   "metadata": {},
   "outputs": [
    {
     "name": "stderr",
     "output_type": "stream",
     "text": [
      "/home/xuefeng.liu/anaconda3/envs/camel/lib/python3.10/site-packages/tqdm/auto.py:21: TqdmWarning: IProgress not found. Please update jupyter and ipywidgets. See https://ipywidgets.readthedocs.io/en/stable/user_install.html\n",
      "  from .autonotebook import tqdm as notebook_tqdm\n",
      "Generating train split: 100%|██████████| 12458/12458 [00:00<00:00, 59732.73 examples/s]\n",
      "Generating test split: 100%|██████████| 712/712 [00:00<00:00, 36959.71 examples/s]\n",
      "Creating parquet from Arrow format: 100%|██████████| 13/13 [00:00<00:00, 40.19ba/s]\n",
      "Creating parquet from Arrow format: 100%|██████████| 1/1 [00:00<00:00, 49.25ba/s]\n"
     ]
    },
    {
     "data": {
      "text/plain": [
       "4254769"
      ]
     },
     "execution_count": 1,
     "metadata": {},
     "output_type": "execute_result"
    }
   ],
   "source": [
    "import os\n",
    "from datasets import load_dataset\n",
    "\n",
    "target_folder = \"data/code-r1-12k\"\n",
    "os.makedirs(target_folder, exist_ok=True)\n",
    "\n",
    "dataset = load_dataset(\"ganler/code-r1-12k\")\n",
    "dataset[\"train\"].to_parquet(f\"{target_folder}/train.parquet\")\n",
    "dataset[\"test\"].to_parquet(f\"{target_folder}/test.parquet\")"
   ]
  },
  {
   "cell_type": "code",
   "execution_count": 2,
   "id": "de658a2a",
   "metadata": {},
   "outputs": [
    {
     "name": "stderr",
     "output_type": "stream",
     "text": [
      "Generating train split: 1890 examples [00:00, 35855.89 examples/s]"
     ]
    },
    {
     "name": "stdout",
     "output_type": "stream",
     "text": [
      "Number of rows in train.parquet: 1890\n"
     ]
    },
    {
     "name": "stderr",
     "output_type": "stream",
     "text": [
      "\n"
     ]
    }
   ],
   "source": [
    "from datasets import load_dataset\n",
    "\n",
    "# Load the local parquet file as a dataset\n",
    "dataset = load_dataset(\n",
    "    \"parquet\", \n",
    "    data_files=\"data/code-r1-2k-leetcode2k-taco/train.parquet\"\n",
    ")\n",
    "\n",
    "# Access the split (it's called 'train' by default here)\n",
    "train_data = dataset['train']\n",
    "\n",
    "# Get number of rows\n",
    "print(f\"Number of rows in train.parquet: {len(train_data)}\")\n"
   ]
  },
  {
   "cell_type": "code",
   "execution_count": 4,
   "id": "8959dd73",
   "metadata": {},
   "outputs": [
    {
     "name": "stderr",
     "output_type": "stream",
     "text": [
      "Generating train split: 1890 examples [00:00, 37629.58 examples/s]\n",
      "Generating test split: 200 examples [00:00, 18416.67 examples/s]"
     ]
    },
    {
     "name": "stdout",
     "output_type": "stream",
     "text": [
      "Number of rows in train.parquet: 1890\n",
      "Number of rows in test.parquet: 200\n"
     ]
    },
    {
     "name": "stderr",
     "output_type": "stream",
     "text": [
      "\n"
     ]
    }
   ],
   "source": [
    "from datasets import load_dataset\n",
    "\n",
    "# Specify both files with split names\n",
    "data_files = {\n",
    "    \"train\": \"data/code-r1-2k-leetcode2k-taco/train.parquet\",\n",
    "    \"test\": \"data/code-r1-2k-leetcode2k-taco/test.parquet\"\n",
    "}\n",
    "\n",
    "# Load both parquet files\n",
    "dataset = load_dataset(\n",
    "    \"parquet\", \n",
    "    data_files=data_files\n",
    ")\n",
    "\n",
    "# Now you can access them separately\n",
    "train_data = dataset[\"train\"]\n",
    "test_data = dataset[\"test\"]\n",
    "\n",
    "# Print number of rows\n",
    "print(f\"Number of rows in train.parquet: {len(train_data)}\")\n",
    "print(f\"Number of rows in test.parquet: {len(test_data)}\")\n"
   ]
  },
  {
   "cell_type": "code",
   "execution_count": null,
   "id": "ef9716c6",
   "metadata": {},
   "outputs": [],
   "source": []
  }
 ],
 "metadata": {
  "kernelspec": {
   "display_name": "camel",
   "language": "python",
   "name": "python3"
  },
  "language_info": {
   "codemirror_mode": {
    "name": "ipython",
    "version": 3
   },
   "file_extension": ".py",
   "mimetype": "text/x-python",
   "name": "python",
   "nbconvert_exporter": "python",
   "pygments_lexer": "ipython3",
   "version": "3.10.16"
  }
 },
 "nbformat": 4,
 "nbformat_minor": 5
}
