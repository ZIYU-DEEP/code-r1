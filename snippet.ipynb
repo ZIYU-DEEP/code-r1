{
 "cells": [
  {
   "cell_type": "code",
   "execution_count": null,
   "id": "75d112f8",
   "metadata": {},
   "outputs": [
    {
     "name": "stderr",
     "output_type": "stream",
     "text": [
      "/home/xuefeng.liu/anaconda3/envs/camel/lib/python3.10/site-packages/tqdm/auto.py:21: TqdmWarning: IProgress not found. Please update jupyter and ipywidgets. See https://ipywidgets.readthedocs.io/en/stable/user_install.html\n",
      "  from .autonotebook import tqdm as notebook_tqdm\n",
      "Generating train split: 100%|██████████| 12458/12458 [00:00<00:00, 59732.73 examples/s]\n",
      "Generating test split: 100%|██████████| 712/712 [00:00<00:00, 36959.71 examples/s]\n",
      "Creating parquet from Arrow format: 100%|██████████| 13/13 [00:00<00:00, 40.19ba/s]\n",
      "Creating parquet from Arrow format: 100%|██████████| 1/1 [00:00<00:00, 49.25ba/s]\n"
     ]
    },
    {
     "data": {
      "text/plain": [
       "4254769"
      ]
     },
     "execution_count": 1,
     "metadata": {},
     "output_type": "execute_result"
    }
   ],
   "source": [
    "import os\n",
    "from datasets import load_dataset\n",
    "\n",
    "target_folder = \"data/code-r1-12k\"\n",
    "os.makedirs(target_folder, exist_ok=True)\n",
    "\n",
    "dataset = load_dataset(\"ganler/code-r1-12k\")\n",
    "dataset[\"train\"].to_parquet(f\"{target_folder}/train.parquet\")\n",
    "dataset[\"test\"].to_parquet(f\"{target_folder}/test.parquet\")"
   ]
  },
  {
   "cell_type": "code",
   "execution_count": null,
   "id": "de658a2a",
   "metadata": {},
   "outputs": [],
   "source": []
  }
 ],
 "metadata": {
  "kernelspec": {
   "display_name": "camel",
   "language": "python",
   "name": "python3"
  },
  "language_info": {
   "codemirror_mode": {
    "name": "ipython",
    "version": 3
   },
   "file_extension": ".py",
   "mimetype": "text/x-python",
   "name": "python",
   "nbconvert_exporter": "python",
   "pygments_lexer": "ipython3",
   "version": "3.10.16"
  }
 },
 "nbformat": 4,
 "nbformat_minor": 5
}
